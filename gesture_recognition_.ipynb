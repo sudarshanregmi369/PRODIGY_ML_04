{
  "nbformat": 4,
  "nbformat_minor": 0,
  "metadata": {
    "colab": {
      "provenance": [],
      "mount_file_id": "1_tek98CkBUZ1GprrFBp55ul_JbPl6W96",
      "authorship_tag": "ABX9TyNA5Hx0DkyKIgfjjYspZZY9",
      "include_colab_link": true
    },
    "kernelspec": {
      "name": "python3",
      "display_name": "Python 3"
    },
    "language_info": {
      "name": "python"
    }
  },
  "cells": [
    {
      "cell_type": "markdown",
      "metadata": {
        "id": "view-in-github",
        "colab_type": "text"
      },
      "source": [
        "<a href=\"https://colab.research.google.com/github/sudarshanregmi369/PRODIGY_ML_04/blob/main/gesture_recognition_.ipynb\" target=\"_parent\"><img src=\"https://colab.research.google.com/assets/colab-badge.svg\" alt=\"Open In Colab\"/></a>"
      ]
    },
    {
      "cell_type": "code",
      "execution_count": null,
      "metadata": {
        "id": "gz0C44Y_e9c8"
      },
      "outputs": [],
      "source": [
        "import warnings\n",
        "warnings.filterwarnings('ignore')\n",
        "\n",
        "import keras\n",
        "import matplotlib.pyplot as plt\n",
        "import os\n",
        "import cv2\n",
        "import numpy as np\n",
        "\n",
        "from keras.layers import Conv2D, Activation, MaxPool2D, Dense, Flatten, Dropout"
      ]
    },
    {
      "cell_type": "code",
      "source": [
        "CATEGORIES = [\"01_palm\", '02_l','03_fist','04_fist_moved','05_thumb','06_index','07_ok','08_palm_moved','09_c','10_down']\n",
        "IMG_SIZE = 50\n",
        "\n",
        "data_path = \"/content/hand-gesture\""
      ],
      "metadata": {
        "id": "KKn2EhKk_O7w"
      },
      "execution_count": null,
      "outputs": []
    },
    {
      "cell_type": "code",
      "source": [
        "image_data = []\n",
        "for dr in os.listdir(data_path):\n",
        "    for category in CATEGORIES:\n",
        "        class_index = CATEGORIES.index(category)\n",
        "        path = os.path.join(data_path, dr, category)\n",
        "        for img in os.listdir(path):\n",
        "            try:\n",
        "                img_arr = cv2.imread(os.path.join(path, img), cv2.IMREAD_GRAYSCALE)\n",
        "                image_data.append([cv2.resize(img_arr, (IMG_SIZE, IMG_SIZE)), class_index])\n",
        "            except Exception as e:\n",
        "                pass\n",
        "image_data[0]"
      ],
      "metadata": {
        "id": "F-_L-Uzc_hSQ"
      },
      "execution_count": null,
      "outputs": []
    },
    {
      "cell_type": "code",
      "source": [
        "# shuffle the input data\n",
        "import random\n",
        "random.shuffle(image_data)\n",
        "\n",
        "plt.figure(1, figsize=(10,10))\n",
        "for i in range(1,10):\n",
        "    plt.subplot(3,3,i)\n",
        "    plt.imshow(image_data[i][0], cmap='hot')\n",
        "    plt.xticks([])\n",
        "    plt.yticks([])\n",
        "    plt.title(CATEGORIES[label[i]][3:])\n",
        "plt.show()\n",
        "\n"
      ],
      "metadata": {
        "id": "5RlLji6__iTd"
      },
      "execution_count": null,
      "outputs": []
    },
    {
      "cell_type": "code",
      "source": [
        "# Normalizing the data\n",
        "input_data = np.array(input_data)\n",
        "label = np.array(label)\n",
        "input_data = input_data/255.0\n",
        "input_data.shape"
      ],
      "metadata": {
        "id": "40YmASfB_z1X"
      },
      "execution_count": null,
      "outputs": []
    },
    {
      "cell_type": "code",
      "source": [
        "label = keras.utils.to_categorical(label, num_classes=10,dtype='i1')\n",
        "label[0]\n",
        "# reshaping the data\n",
        "input_data.shape = (-1, IMG_SIZE, IMG_SIZE, 1)"
      ],
      "metadata": {
        "id": "kjHKWUf7_8Es"
      },
      "execution_count": null,
      "outputs": []
    },
    {
      "cell_type": "code",
      "source": [
        "from sklearn.model_selection import train_test_split\n",
        "X_train, X_test, y_train, y_test = train_test_split(input_data, label, test_size = 0.3, random_state=0)\n",
        "\n"
      ],
      "metadata": {
        "id": "w6d9BegQACKw"
      },
      "execution_count": null,
      "outputs": []
    },
    {
      "cell_type": "code",
      "source": [
        "model = keras.models.Sequential()\n",
        "\n",
        "model.add(Conv2D(filters = 32, kernel_size = (3,3), input_shape = (IMG_SIZE, IMG_SIZE, 1)))\n",
        "model.add(Activation('relu'))\n",
        "\n",
        "\n",
        "model.add(Conv2D(filters = 32, kernel_size = (3,3)))\n",
        "model.add(Activation('relu'))\n",
        "model.add(MaxPool2D(pool_size=(2,2)))\n",
        "model.add(Dropout(0.3))\n",
        "model.add(Conv2D(filters = 64, kernel_size = (3,3)))\n",
        "model.add(Activation('relu'))\n",
        "model.add(MaxPool2D(pool_size=(2,2)))\n",
        "model.add(Dropout(0.3))\n",
        "\n",
        "model.add(Flatten())\n",
        "model.add(Dense(256, activation='relu'))\n",
        "model.add(Dense(10, activation='softmax'))\n",
        "\n",
        "model.compile(loss='categorical_crossentropy',\n",
        "             optimizer = 'rmsprop',\n",
        "             metrics = ['accuracy'])"
      ],
      "metadata": {
        "id": "zqqroowxAGwi"
      },
      "execution_count": null,
      "outputs": []
    },
    {
      "cell_type": "code",
      "source": [
        "model.fit(X_train, y_train, epochs = 7, batch_size=32, validation_data=(X_test, y_test))"
      ],
      "metadata": {
        "id": "V33_jhcvAfgk"
      },
      "execution_count": null,
      "outputs": []
    },
    {
      "cell_type": "code",
      "source": [
        "plt.figure(figsize=(12, 5))\n",
        "\n",
        "plt.subplot(1, 2, 1)\n",
        "plt.plot(model.history.history['loss'], label='Training Loss', color='blue')\n",
        "plt.title('Training Loss')\n",
        "plt.xlabel('Epochs')\n",
        "plt.ylabel('Loss')\n",
        "plt.legend()\n",
        "\n",
        "# Plotting Validation Loss\n",
        "plt.subplot(1, 2, 2)\n",
        "plt.plot(model.history.history['val_loss'], label='Validation Loss', color='orange')\n",
        "plt.title('Validation Loss')\n",
        "plt.xlabel('Epochs')\n",
        "plt.legend()\n",
        "\n",
        "plt.tight_layout()\n",
        "plt.show()"
      ],
      "metadata": {
        "id": "QH7er9gyAmPS"
      },
      "execution_count": null,
      "outputs": []
    },
    {
      "cell_type": "code",
      "source": [
        "test_loss, test_accuracy = model.evaluate(X_test, y_test)\n",
        "\n",
        "print('Test accuracy: {:2.2f}%'.format(test_accuracy*100))\n",
        "\n",
        "# Visualize Test Accuracy\n",
        "plt.figure(figsize=(8, 5))\n",
        "plt.bar(['Test Accuracy'], [test_accuracy], color=['blue'])\n",
        "plt.ylim(0, 1)  # Assuming accuracy is between 0 and 1\n",
        "plt.title('Test Accuracy')\n",
        "plt.ylabel('Accuracy')\n",
        "plt.show()\n",
        "\n",
        "# Visualize Test Loss\n",
        "plt.figure(figsize=(8, 5))\n",
        "plt.bar(['Test Loss'], [test_loss], color=['red'])\n",
        "plt.title('Test Loss')\n",
        "plt.ylabel('Loss')\n",
        "plt.show()"
      ],
      "metadata": {
        "id": "5eVimZM0A8LI"
      },
      "execution_count": null,
      "outputs": []
    },
    {
      "cell_type": "code",
      "source": [
        "\n",
        "\n",
        "from sklearn.metrics import confusion_matrix\n",
        "import seaborn as sn\n",
        "\n",
        "cat = [c[3:] for c in CATEGORIES]\n",
        "\n",
        "# Calculate the confusion matrix\n",
        "cm = confusion_matrix(np.argmax(y_test, axis=1), np.argmax(model.predict(X_test), axis=1))\n",
        "\n",
        "plt.figure(figsize=(10, 8))\n",
        "sn.heatmap(cm, annot=True, fmt='d', cmap='Blues', xticklabels=cat, yticklabels=cat)\n",
        "plt.title('Confusion Matrix')\n",
        "plt.xlabel('Predicted Labels')\n",
        "plt.ylabel('True Labels')\n",
        "plt.show()\n",
        "\n"
      ],
      "metadata": {
        "id": "5OM5xG_8BGbE"
      },
      "execution_count": null,
      "outputs": []
    }
  ]
}